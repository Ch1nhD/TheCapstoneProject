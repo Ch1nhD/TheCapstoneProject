{
 "cells": [
  {
   "cell_type": "markdown",
   "metadata": {
    "collapsed": true
   },
   "source": [
    "# Week 2 Assignment\n",
    "## Segmenting and Clustering Neighborhoods in Toronto\n",
    "### All 3 parts are in this notebook\n",
    "\n",
    "\n",
    "## PART 1"
   ]
  },
  {
   "cell_type": "markdown",
   "metadata": {},
   "source": [
    "Import pandas and numpy"
   ]
  },
  {
   "cell_type": "code",
   "execution_count": 1,
   "metadata": {},
   "outputs": [],
   "source": [
    "import pandas as pd\n",
    "import numpy as np"
   ]
  },
  {
   "cell_type": "markdown",
   "metadata": {},
   "source": [
    "Installing lxml"
   ]
  },
  {
   "cell_type": "code",
   "execution_count": 2,
   "metadata": {},
   "outputs": [
    {
     "name": "stdout",
     "output_type": "stream",
     "text": [
      "Requirement already satisfied: lxml in /opt/conda/envs/Python-3.7-main/lib/python3.7/site-packages (4.5.1)\n",
      "Note: you may need to restart the kernel to use updated packages.\n"
     ]
    }
   ],
   "source": [
    "pip install lxml"
   ]
  },
  {
   "cell_type": "markdown",
   "metadata": {},
   "source": [
    "Reading data from source and creating dataframe"
   ]
  },
  {
   "cell_type": "code",
   "execution_count": 3,
   "metadata": {},
   "outputs": [
    {
     "data": {
      "text/html": [
       "<div>\n",
       "<style scoped>\n",
       "    .dataframe tbody tr th:only-of-type {\n",
       "        vertical-align: middle;\n",
       "    }\n",
       "\n",
       "    .dataframe tbody tr th {\n",
       "        vertical-align: top;\n",
       "    }\n",
       "\n",
       "    .dataframe thead th {\n",
       "        text-align: right;\n",
       "    }\n",
       "</style>\n",
       "<table border=\"1\" class=\"dataframe\">\n",
       "  <thead>\n",
       "    <tr style=\"text-align: right;\">\n",
       "      <th></th>\n",
       "      <th>Postal Code</th>\n",
       "      <th>Borough</th>\n",
       "      <th>Neighbourhood</th>\n",
       "    </tr>\n",
       "  </thead>\n",
       "  <tbody>\n",
       "    <tr>\n",
       "      <th>0</th>\n",
       "      <td>M1A</td>\n",
       "      <td>Not assigned</td>\n",
       "      <td>Not assigned</td>\n",
       "    </tr>\n",
       "    <tr>\n",
       "      <th>1</th>\n",
       "      <td>M2A</td>\n",
       "      <td>Not assigned</td>\n",
       "      <td>Not assigned</td>\n",
       "    </tr>\n",
       "    <tr>\n",
       "      <th>2</th>\n",
       "      <td>M3A</td>\n",
       "      <td>North York</td>\n",
       "      <td>Parkwoods</td>\n",
       "    </tr>\n",
       "    <tr>\n",
       "      <th>3</th>\n",
       "      <td>M4A</td>\n",
       "      <td>North York</td>\n",
       "      <td>Victoria Village</td>\n",
       "    </tr>\n",
       "    <tr>\n",
       "      <th>4</th>\n",
       "      <td>M5A</td>\n",
       "      <td>Downtown Toronto</td>\n",
       "      <td>Regent Park, Harbourfront</td>\n",
       "    </tr>\n",
       "  </tbody>\n",
       "</table>\n",
       "</div>"
      ],
      "text/plain": [
       "  Postal Code           Borough              Neighbourhood\n",
       "0         M1A      Not assigned               Not assigned\n",
       "1         M2A      Not assigned               Not assigned\n",
       "2         M3A        North York                  Parkwoods\n",
       "3         M4A        North York           Victoria Village\n",
       "4         M5A  Downtown Toronto  Regent Park, Harbourfront"
      ]
     },
     "execution_count": 3,
     "metadata": {},
     "output_type": "execute_result"
    }
   ],
   "source": [
    "df = pd.read_html('https://en.wikipedia.org/wiki/List_of_postal_codes_of_Canada:_M')[0]\n",
    "df.head()"
   ]
  },
  {
   "cell_type": "markdown",
   "metadata": {},
   "source": [
    "## PART 1 - Process 1: Filtering Boroughs that are 'Not assigned'"
   ]
  },
  {
   "cell_type": "code",
   "execution_count": 4,
   "metadata": {},
   "outputs": [
    {
     "data": {
      "text/html": [
       "<div>\n",
       "<style scoped>\n",
       "    .dataframe tbody tr th:only-of-type {\n",
       "        vertical-align: middle;\n",
       "    }\n",
       "\n",
       "    .dataframe tbody tr th {\n",
       "        vertical-align: top;\n",
       "    }\n",
       "\n",
       "    .dataframe thead th {\n",
       "        text-align: right;\n",
       "    }\n",
       "</style>\n",
       "<table border=\"1\" class=\"dataframe\">\n",
       "  <thead>\n",
       "    <tr style=\"text-align: right;\">\n",
       "      <th></th>\n",
       "      <th>Postal Code</th>\n",
       "      <th>Borough</th>\n",
       "      <th>Neighbourhood</th>\n",
       "    </tr>\n",
       "  </thead>\n",
       "  <tbody>\n",
       "    <tr>\n",
       "      <th>2</th>\n",
       "      <td>M3A</td>\n",
       "      <td>North York</td>\n",
       "      <td>Parkwoods</td>\n",
       "    </tr>\n",
       "    <tr>\n",
       "      <th>3</th>\n",
       "      <td>M4A</td>\n",
       "      <td>North York</td>\n",
       "      <td>Victoria Village</td>\n",
       "    </tr>\n",
       "    <tr>\n",
       "      <th>4</th>\n",
       "      <td>M5A</td>\n",
       "      <td>Downtown Toronto</td>\n",
       "      <td>Regent Park, Harbourfront</td>\n",
       "    </tr>\n",
       "    <tr>\n",
       "      <th>5</th>\n",
       "      <td>M6A</td>\n",
       "      <td>North York</td>\n",
       "      <td>Lawrence Manor, Lawrence Heights</td>\n",
       "    </tr>\n",
       "    <tr>\n",
       "      <th>6</th>\n",
       "      <td>M7A</td>\n",
       "      <td>Downtown Toronto</td>\n",
       "      <td>Queen's Park, Ontario Provincial Government</td>\n",
       "    </tr>\n",
       "  </tbody>\n",
       "</table>\n",
       "</div>"
      ],
      "text/plain": [
       "  Postal Code           Borough                                Neighbourhood\n",
       "2         M3A        North York                                    Parkwoods\n",
       "3         M4A        North York                             Victoria Village\n",
       "4         M5A  Downtown Toronto                    Regent Park, Harbourfront\n",
       "5         M6A        North York             Lawrence Manor, Lawrence Heights\n",
       "6         M7A  Downtown Toronto  Queen's Park, Ontario Provincial Government"
      ]
     },
     "execution_count": 4,
     "metadata": {},
     "output_type": "execute_result"
    }
   ],
   "source": [
    "df_borough_notna = df[df['Borough'] != 'Not assigned']\n",
    "df_borough_notna.head()"
   ]
  },
  {
   "cell_type": "markdown",
   "metadata": {},
   "source": [
    "Checking if Dataframe has Postal Code Instances greater than 0"
   ]
  },
  {
   "cell_type": "code",
   "execution_count": 5,
   "metadata": {},
   "outputs": [
    {
     "data": {
      "text/plain": [
       "M5N    1\n",
       "M1H    1\n",
       "M5T    1\n",
       "M5L    1\n",
       "M1C    1\n",
       "      ..\n",
       "M4P    1\n",
       "M6C    1\n",
       "M8V    1\n",
       "M4K    1\n",
       "M5M    1\n",
       "Name: Postal Code, Length: 103, dtype: int64"
      ]
     },
     "execution_count": 5,
     "metadata": {},
     "output_type": "execute_result"
    }
   ],
   "source": [
    "df_PC_Count = df_borough_notna['Postal Code'].value_counts(ascending=False)\n",
    "df_PC_Count"
   ]
  },
  {
   "cell_type": "markdown",
   "metadata": {},
   "source": [
    "No Postal Codes are listed more than once\n",
    "\n",
    "Although none are found, below is the step. \n",
    "\n",
    "## PART 1 - Process 2: More than 1 Postal code rows, combine Neighborhoods into 1 row separated by commas"
   ]
  },
  {
   "cell_type": "code",
   "execution_count": 6,
   "metadata": {},
   "outputs": [
    {
     "data": {
      "text/html": [
       "<div>\n",
       "<style scoped>\n",
       "    .dataframe tbody tr th:only-of-type {\n",
       "        vertical-align: middle;\n",
       "    }\n",
       "\n",
       "    .dataframe tbody tr th {\n",
       "        vertical-align: top;\n",
       "    }\n",
       "\n",
       "    .dataframe thead th {\n",
       "        text-align: right;\n",
       "    }\n",
       "</style>\n",
       "<table border=\"1\" class=\"dataframe\">\n",
       "  <thead>\n",
       "    <tr style=\"text-align: right;\">\n",
       "      <th></th>\n",
       "      <th>Postal Code</th>\n",
       "      <th>Borough</th>\n",
       "      <th>Neighbourhood</th>\n",
       "    </tr>\n",
       "  </thead>\n",
       "  <tbody>\n",
       "    <tr>\n",
       "      <th>0</th>\n",
       "      <td>M1B</td>\n",
       "      <td>Scarborough</td>\n",
       "      <td>Malvern, Rouge</td>\n",
       "    </tr>\n",
       "    <tr>\n",
       "      <th>1</th>\n",
       "      <td>M1C</td>\n",
       "      <td>Scarborough</td>\n",
       "      <td>Rouge Hill, Port Union, Highland Creek</td>\n",
       "    </tr>\n",
       "    <tr>\n",
       "      <th>2</th>\n",
       "      <td>M1E</td>\n",
       "      <td>Scarborough</td>\n",
       "      <td>Guildwood, Morningside, West Hill</td>\n",
       "    </tr>\n",
       "    <tr>\n",
       "      <th>3</th>\n",
       "      <td>M1G</td>\n",
       "      <td>Scarborough</td>\n",
       "      <td>Woburn</td>\n",
       "    </tr>\n",
       "    <tr>\n",
       "      <th>4</th>\n",
       "      <td>M1H</td>\n",
       "      <td>Scarborough</td>\n",
       "      <td>Cedarbrae</td>\n",
       "    </tr>\n",
       "  </tbody>\n",
       "</table>\n",
       "</div>"
      ],
      "text/plain": [
       "  Postal Code      Borough                           Neighbourhood\n",
       "0         M1B  Scarborough                          Malvern, Rouge\n",
       "1         M1C  Scarborough  Rouge Hill, Port Union, Highland Creek\n",
       "2         M1E  Scarborough       Guildwood, Morningside, West Hill\n",
       "3         M1G  Scarborough                                  Woburn\n",
       "4         M1H  Scarborough                               Cedarbrae"
      ]
     },
     "execution_count": 6,
     "metadata": {},
     "output_type": "execute_result"
    }
   ],
   "source": [
    "df_groupby = df_borough_notna.groupby(['Postal Code','Borough'])['Neighbourhood'].apply(', '.join).reset_index()\n",
    "df_groupby.head()"
   ]
  },
  {
   "cell_type": "markdown",
   "metadata": {},
   "source": [
    "Checking if any Neighborhoods are 'Not assigned'"
   ]
  },
  {
   "cell_type": "code",
   "execution_count": 7,
   "metadata": {},
   "outputs": [
    {
     "data": {
      "text/html": [
       "<div>\n",
       "<style scoped>\n",
       "    .dataframe tbody tr th:only-of-type {\n",
       "        vertical-align: middle;\n",
       "    }\n",
       "\n",
       "    .dataframe tbody tr th {\n",
       "        vertical-align: top;\n",
       "    }\n",
       "\n",
       "    .dataframe thead th {\n",
       "        text-align: right;\n",
       "    }\n",
       "</style>\n",
       "<table border=\"1\" class=\"dataframe\">\n",
       "  <thead>\n",
       "    <tr style=\"text-align: right;\">\n",
       "      <th></th>\n",
       "      <th>Postal Code</th>\n",
       "      <th>Borough</th>\n",
       "      <th>Neighbourhood</th>\n",
       "    </tr>\n",
       "  </thead>\n",
       "  <tbody>\n",
       "  </tbody>\n",
       "</table>\n",
       "</div>"
      ],
      "text/plain": [
       "Empty DataFrame\n",
       "Columns: [Postal Code, Borough, Neighbourhood]\n",
       "Index: []"
      ]
     },
     "execution_count": 7,
     "metadata": {},
     "output_type": "execute_result"
    }
   ],
   "source": [
    "df_neigh_na = df_groupby[df_groupby['Neighbourhood'] == 'Not assigned']\n",
    "df_neigh_na.head()"
   ]
  },
  {
   "cell_type": "markdown",
   "metadata": {},
   "source": [
    "No Bouroughs are 'Not assigned' as a Neighborhood\n",
    "\n",
    "Although none are found. Below is the step.\n",
    "\n",
    "## PART 1 - Process 3: To replace 'Not assigned' Neighborhoods to Borough Name"
   ]
  },
  {
   "cell_type": "code",
   "execution_count": 8,
   "metadata": {},
   "outputs": [
    {
     "data": {
      "text/html": [
       "<div>\n",
       "<style scoped>\n",
       "    .dataframe tbody tr th:only-of-type {\n",
       "        vertical-align: middle;\n",
       "    }\n",
       "\n",
       "    .dataframe tbody tr th {\n",
       "        vertical-align: top;\n",
       "    }\n",
       "\n",
       "    .dataframe thead th {\n",
       "        text-align: right;\n",
       "    }\n",
       "</style>\n",
       "<table border=\"1\" class=\"dataframe\">\n",
       "  <thead>\n",
       "    <tr style=\"text-align: right;\">\n",
       "      <th></th>\n",
       "      <th>Postal Code</th>\n",
       "      <th>Borough</th>\n",
       "      <th>Neighbourhood</th>\n",
       "    </tr>\n",
       "  </thead>\n",
       "  <tbody>\n",
       "    <tr>\n",
       "      <th>0</th>\n",
       "      <td>M1B</td>\n",
       "      <td>Scarborough</td>\n",
       "      <td>Malvern, Rouge</td>\n",
       "    </tr>\n",
       "    <tr>\n",
       "      <th>1</th>\n",
       "      <td>M1C</td>\n",
       "      <td>Scarborough</td>\n",
       "      <td>Rouge Hill, Port Union, Highland Creek</td>\n",
       "    </tr>\n",
       "    <tr>\n",
       "      <th>2</th>\n",
       "      <td>M1E</td>\n",
       "      <td>Scarborough</td>\n",
       "      <td>Guildwood, Morningside, West Hill</td>\n",
       "    </tr>\n",
       "    <tr>\n",
       "      <th>3</th>\n",
       "      <td>M1G</td>\n",
       "      <td>Scarborough</td>\n",
       "      <td>Woburn</td>\n",
       "    </tr>\n",
       "    <tr>\n",
       "      <th>4</th>\n",
       "      <td>M1H</td>\n",
       "      <td>Scarborough</td>\n",
       "      <td>Cedarbrae</td>\n",
       "    </tr>\n",
       "  </tbody>\n",
       "</table>\n",
       "</div>"
      ],
      "text/plain": [
       "  Postal Code      Borough                           Neighbourhood\n",
       "0         M1B  Scarborough                          Malvern, Rouge\n",
       "1         M1C  Scarborough  Rouge Hill, Port Union, Highland Creek\n",
       "2         M1E  Scarborough       Guildwood, Morningside, West Hill\n",
       "3         M1G  Scarborough                                  Woburn\n",
       "4         M1H  Scarborough                               Cedarbrae"
      ]
     },
     "execution_count": 8,
     "metadata": {},
     "output_type": "execute_result"
    }
   ],
   "source": [
    "df_groupby['Neighbourhood'] = np.where((df_groupby.Neighbourhood=='Not assigned'),df_groupby.Borough, df_groupby.Neighbourhood)\n",
    "df_groupby.head()"
   ]
  },
  {
   "cell_type": "markdown",
   "metadata": {},
   "source": [
    "Displaying number of rows in dataframe\n",
    "\n",
    "## PART 1 - Process 4: Shape of dataframe"
   ]
  },
  {
   "cell_type": "code",
   "execution_count": 9,
   "metadata": {},
   "outputs": [
    {
     "data": {
      "text/plain": [
       "(103, 3)"
      ]
     },
     "execution_count": 9,
     "metadata": {},
     "output_type": "execute_result"
    }
   ],
   "source": [
    "df_groupby.shape"
   ]
  },
  {
   "cell_type": "markdown",
   "metadata": {},
   "source": [
    "# ------------------------------------\n",
    "# PART 2\n",
    "## Geocoding Postal Codes"
   ]
  },
  {
   "cell_type": "markdown",
   "metadata": {},
   "source": [
    "Geocoder"
   ]
  },
  {
   "cell_type": "code",
   "execution_count": 11,
   "metadata": {},
   "outputs": [
    {
     "name": "stdout",
     "output_type": "stream",
     "text": [
      "Collecting geocoder\n",
      "  Downloading geocoder-1.38.1-py2.py3-none-any.whl (98 kB)\n",
      "\u001b[K     |████████████████████████████████| 98 kB 5.2 MB/s eta 0:00:011\n",
      "\u001b[?25hRequirement already satisfied: click in /opt/conda/envs/Python-3.7-main/lib/python3.7/site-packages (from geocoder) (7.1.2)\n",
      "Requirement already satisfied: six in /opt/conda/envs/Python-3.7-main/lib/python3.7/site-packages (from geocoder) (1.15.0)\n",
      "Requirement already satisfied: requests in /opt/conda/envs/Python-3.7-main/lib/python3.7/site-packages (from geocoder) (2.24.0)\n",
      "Requirement already satisfied: future in /opt/conda/envs/Python-3.7-main/lib/python3.7/site-packages (from geocoder) (0.18.2)\n",
      "Collecting ratelim\n",
      "  Downloading ratelim-0.1.6-py2.py3-none-any.whl (4.0 kB)\n",
      "Requirement already satisfied: chardet<4,>=3.0.2 in /opt/conda/envs/Python-3.7-main/lib/python3.7/site-packages (from requests->geocoder) (3.0.4)\n",
      "Requirement already satisfied: urllib3!=1.25.0,!=1.25.1,<1.26,>=1.21.1 in /opt/conda/envs/Python-3.7-main/lib/python3.7/site-packages (from requests->geocoder) (1.25.9)\n",
      "Requirement already satisfied: idna<3,>=2.5 in /opt/conda/envs/Python-3.7-main/lib/python3.7/site-packages (from requests->geocoder) (2.9)\n",
      "Requirement already satisfied: certifi>=2017.4.17 in /opt/conda/envs/Python-3.7-main/lib/python3.7/site-packages (from requests->geocoder) (2020.6.20)\n",
      "Requirement already satisfied: decorator in /opt/conda/envs/Python-3.7-main/lib/python3.7/site-packages (from ratelim->geocoder) (4.4.2)\n",
      "Installing collected packages: ratelim, geocoder\n",
      "Successfully installed geocoder-1.38.1 ratelim-0.1.6\n",
      "Note: you may need to restart the kernel to use updated packages.\n"
     ]
    }
   ],
   "source": [
    "pip install geocoder"
   ]
  },
  {
   "cell_type": "code",
   "execution_count": 23,
   "metadata": {},
   "outputs": [],
   "source": [
    "import geocoder # import geocoder"
   ]
  },
  {
   "cell_type": "markdown",
   "metadata": {},
   "source": [
    "Downloading Postal Code Lat Lon file "
   ]
  },
  {
   "cell_type": "code",
   "execution_count": 24,
   "metadata": {},
   "outputs": [
    {
     "data": {
      "text/html": [
       "<div>\n",
       "<style scoped>\n",
       "    .dataframe tbody tr th:only-of-type {\n",
       "        vertical-align: middle;\n",
       "    }\n",
       "\n",
       "    .dataframe tbody tr th {\n",
       "        vertical-align: top;\n",
       "    }\n",
       "\n",
       "    .dataframe thead th {\n",
       "        text-align: right;\n",
       "    }\n",
       "</style>\n",
       "<table border=\"1\" class=\"dataframe\">\n",
       "  <thead>\n",
       "    <tr style=\"text-align: right;\">\n",
       "      <th></th>\n",
       "      <th>Postal Code</th>\n",
       "      <th>Latitude</th>\n",
       "      <th>Longitude</th>\n",
       "    </tr>\n",
       "  </thead>\n",
       "  <tbody>\n",
       "    <tr>\n",
       "      <th>0</th>\n",
       "      <td>M1B</td>\n",
       "      <td>43.806686</td>\n",
       "      <td>-79.194353</td>\n",
       "    </tr>\n",
       "    <tr>\n",
       "      <th>1</th>\n",
       "      <td>M1C</td>\n",
       "      <td>43.784535</td>\n",
       "      <td>-79.160497</td>\n",
       "    </tr>\n",
       "    <tr>\n",
       "      <th>2</th>\n",
       "      <td>M1E</td>\n",
       "      <td>43.763573</td>\n",
       "      <td>-79.188711</td>\n",
       "    </tr>\n",
       "    <tr>\n",
       "      <th>3</th>\n",
       "      <td>M1G</td>\n",
       "      <td>43.770992</td>\n",
       "      <td>-79.216917</td>\n",
       "    </tr>\n",
       "    <tr>\n",
       "      <th>4</th>\n",
       "      <td>M1H</td>\n",
       "      <td>43.773136</td>\n",
       "      <td>-79.239476</td>\n",
       "    </tr>\n",
       "  </tbody>\n",
       "</table>\n",
       "</div>"
      ],
      "text/plain": [
       "  Postal Code   Latitude  Longitude\n",
       "0         M1B  43.806686 -79.194353\n",
       "1         M1C  43.784535 -79.160497\n",
       "2         M1E  43.763573 -79.188711\n",
       "3         M1G  43.770992 -79.216917\n",
       "4         M1H  43.773136 -79.239476"
      ]
     },
     "execution_count": 24,
     "metadata": {},
     "output_type": "execute_result"
    }
   ],
   "source": [
    "df_latlon = pd.read_csv('http://cocl.us/Geospatial_data')\n",
    "df_latlon.head()"
   ]
  },
  {
   "cell_type": "markdown",
   "metadata": {},
   "source": [
    "## PART 2 - Process 1: Add Lat Long to dataframe"
   ]
  },
  {
   "cell_type": "code",
   "execution_count": 25,
   "metadata": {},
   "outputs": [
    {
     "data": {
      "text/html": [
       "<div>\n",
       "<style scoped>\n",
       "    .dataframe tbody tr th:only-of-type {\n",
       "        vertical-align: middle;\n",
       "    }\n",
       "\n",
       "    .dataframe tbody tr th {\n",
       "        vertical-align: top;\n",
       "    }\n",
       "\n",
       "    .dataframe thead th {\n",
       "        text-align: right;\n",
       "    }\n",
       "</style>\n",
       "<table border=\"1\" class=\"dataframe\">\n",
       "  <thead>\n",
       "    <tr style=\"text-align: right;\">\n",
       "      <th></th>\n",
       "      <th>Postal Code</th>\n",
       "      <th>Borough</th>\n",
       "      <th>Neighbourhood</th>\n",
       "      <th>Latitude</th>\n",
       "      <th>Longitude</th>\n",
       "    </tr>\n",
       "  </thead>\n",
       "  <tbody>\n",
       "    <tr>\n",
       "      <th>0</th>\n",
       "      <td>M1B</td>\n",
       "      <td>Scarborough</td>\n",
       "      <td>Malvern, Rouge</td>\n",
       "      <td>43.806686</td>\n",
       "      <td>-79.194353</td>\n",
       "    </tr>\n",
       "    <tr>\n",
       "      <th>1</th>\n",
       "      <td>M1C</td>\n",
       "      <td>Scarborough</td>\n",
       "      <td>Rouge Hill, Port Union, Highland Creek</td>\n",
       "      <td>43.784535</td>\n",
       "      <td>-79.160497</td>\n",
       "    </tr>\n",
       "    <tr>\n",
       "      <th>2</th>\n",
       "      <td>M1E</td>\n",
       "      <td>Scarborough</td>\n",
       "      <td>Guildwood, Morningside, West Hill</td>\n",
       "      <td>43.763573</td>\n",
       "      <td>-79.188711</td>\n",
       "    </tr>\n",
       "    <tr>\n",
       "      <th>3</th>\n",
       "      <td>M1G</td>\n",
       "      <td>Scarborough</td>\n",
       "      <td>Woburn</td>\n",
       "      <td>43.770992</td>\n",
       "      <td>-79.216917</td>\n",
       "    </tr>\n",
       "    <tr>\n",
       "      <th>4</th>\n",
       "      <td>M1H</td>\n",
       "      <td>Scarborough</td>\n",
       "      <td>Cedarbrae</td>\n",
       "      <td>43.773136</td>\n",
       "      <td>-79.239476</td>\n",
       "    </tr>\n",
       "  </tbody>\n",
       "</table>\n",
       "</div>"
      ],
      "text/plain": [
       "  Postal Code      Borough                           Neighbourhood   Latitude  \\\n",
       "0         M1B  Scarborough                          Malvern, Rouge  43.806686   \n",
       "1         M1C  Scarborough  Rouge Hill, Port Union, Highland Creek  43.784535   \n",
       "2         M1E  Scarborough       Guildwood, Morningside, West Hill  43.763573   \n",
       "3         M1G  Scarborough                                  Woburn  43.770992   \n",
       "4         M1H  Scarborough                               Cedarbrae  43.773136   \n",
       "\n",
       "   Longitude  \n",
       "0 -79.194353  \n",
       "1 -79.160497  \n",
       "2 -79.188711  \n",
       "3 -79.216917  \n",
       "4 -79.239476  "
      ]
     },
     "execution_count": 25,
     "metadata": {},
     "output_type": "execute_result"
    }
   ],
   "source": [
    "df_wlatlon = pd.merge(df_groupby, df_latlon, on='Postal Code')\n",
    "df_wlatlon.head()"
   ]
  },
  {
   "cell_type": "code",
   "execution_count": 47,
   "metadata": {},
   "outputs": [
    {
     "data": {
      "text/plain": [
       "array(['Scarborough', 'North York', 'East York', 'East Toronto',\n",
       "       'Central Toronto', 'Downtown Toronto', 'York', 'West Toronto',\n",
       "       'Mississauga', 'Etobicoke'], dtype=object)"
      ]
     },
     "execution_count": 47,
     "metadata": {},
     "output_type": "execute_result"
    }
   ],
   "source": [
    "df_wlatlon.Borough.unique()"
   ]
  },
  {
   "cell_type": "markdown",
   "metadata": {},
   "source": [
    "# ------------------------------------\n",
    "# Part 3\n",
    "## Visual Map"
   ]
  },
  {
   "cell_type": "markdown",
   "metadata": {},
   "source": [
    "Filtering Toronto Borough"
   ]
  },
  {
   "cell_type": "code",
   "execution_count": 72,
   "metadata": {},
   "outputs": [
    {
     "data": {
      "text/html": [
       "<div>\n",
       "<style scoped>\n",
       "    .dataframe tbody tr th:only-of-type {\n",
       "        vertical-align: middle;\n",
       "    }\n",
       "\n",
       "    .dataframe tbody tr th {\n",
       "        vertical-align: top;\n",
       "    }\n",
       "\n",
       "    .dataframe thead th {\n",
       "        text-align: right;\n",
       "    }\n",
       "</style>\n",
       "<table border=\"1\" class=\"dataframe\">\n",
       "  <thead>\n",
       "    <tr style=\"text-align: right;\">\n",
       "      <th></th>\n",
       "      <th>Postal Code</th>\n",
       "      <th>Borough</th>\n",
       "      <th>Neighbourhood</th>\n",
       "      <th>Latitude</th>\n",
       "      <th>Longitude</th>\n",
       "    </tr>\n",
       "  </thead>\n",
       "  <tbody>\n",
       "    <tr>\n",
       "      <th>37</th>\n",
       "      <td>M4E</td>\n",
       "      <td>East Toronto</td>\n",
       "      <td>The Beaches</td>\n",
       "      <td>43.676357</td>\n",
       "      <td>-79.293031</td>\n",
       "    </tr>\n",
       "    <tr>\n",
       "      <th>41</th>\n",
       "      <td>M4K</td>\n",
       "      <td>East Toronto</td>\n",
       "      <td>The Danforth West, Riverdale</td>\n",
       "      <td>43.679557</td>\n",
       "      <td>-79.352188</td>\n",
       "    </tr>\n",
       "    <tr>\n",
       "      <th>42</th>\n",
       "      <td>M4L</td>\n",
       "      <td>East Toronto</td>\n",
       "      <td>India Bazaar, The Beaches West</td>\n",
       "      <td>43.668999</td>\n",
       "      <td>-79.315572</td>\n",
       "    </tr>\n",
       "    <tr>\n",
       "      <th>43</th>\n",
       "      <td>M4M</td>\n",
       "      <td>East Toronto</td>\n",
       "      <td>Studio District</td>\n",
       "      <td>43.659526</td>\n",
       "      <td>-79.340923</td>\n",
       "    </tr>\n",
       "    <tr>\n",
       "      <th>44</th>\n",
       "      <td>M4N</td>\n",
       "      <td>Central Toronto</td>\n",
       "      <td>Lawrence Park</td>\n",
       "      <td>43.728020</td>\n",
       "      <td>-79.388790</td>\n",
       "    </tr>\n",
       "  </tbody>\n",
       "</table>\n",
       "</div>"
      ],
      "text/plain": [
       "   Postal Code          Borough                   Neighbourhood   Latitude  \\\n",
       "37         M4E     East Toronto                     The Beaches  43.676357   \n",
       "41         M4K     East Toronto    The Danforth West, Riverdale  43.679557   \n",
       "42         M4L     East Toronto  India Bazaar, The Beaches West  43.668999   \n",
       "43         M4M     East Toronto                 Studio District  43.659526   \n",
       "44         M4N  Central Toronto                   Lawrence Park  43.728020   \n",
       "\n",
       "    Longitude  \n",
       "37 -79.293031  \n",
       "41 -79.352188  \n",
       "42 -79.315572  \n",
       "43 -79.340923  \n",
       "44 -79.388790  "
      ]
     },
     "execution_count": 72,
     "metadata": {},
     "output_type": "execute_result"
    }
   ],
   "source": [
    "Toronto_df = df_wlatlon[df_wlatlon['Borough'].str.contains(\"Toronto\")]\n",
    "Toronto_df.head()"
   ]
  },
  {
   "cell_type": "markdown",
   "metadata": {},
   "source": [
    "Install Folium for mapping"
   ]
  },
  {
   "cell_type": "code",
   "execution_count": 30,
   "metadata": {},
   "outputs": [
    {
     "name": "stdout",
     "output_type": "stream",
     "text": [
      "Collecting folium\n",
      "  Downloading folium-0.11.0-py2.py3-none-any.whl (93 kB)\n",
      "\u001b[K     |████████████████████████████████| 93 kB 2.7 MB/s  eta 0:00:01\n",
      "\u001b[?25hCollecting branca>=0.3.0\n",
      "  Downloading branca-0.4.1-py3-none-any.whl (24 kB)\n",
      "Requirement already satisfied: jinja2>=2.9 in /opt/conda/envs/Python-3.7-main/lib/python3.7/site-packages (from folium) (2.11.2)\n",
      "Requirement already satisfied: numpy in /opt/conda/envs/Python-3.7-main/lib/python3.7/site-packages (from folium) (1.18.5)\n",
      "Requirement already satisfied: requests in /opt/conda/envs/Python-3.7-main/lib/python3.7/site-packages (from folium) (2.24.0)\n",
      "Requirement already satisfied: MarkupSafe>=0.23 in /opt/conda/envs/Python-3.7-main/lib/python3.7/site-packages (from jinja2>=2.9->folium) (1.1.1)\n",
      "Requirement already satisfied: urllib3!=1.25.0,!=1.25.1,<1.26,>=1.21.1 in /opt/conda/envs/Python-3.7-main/lib/python3.7/site-packages (from requests->folium) (1.25.9)\n",
      "Requirement already satisfied: idna<3,>=2.5 in /opt/conda/envs/Python-3.7-main/lib/python3.7/site-packages (from requests->folium) (2.9)\n",
      "Requirement already satisfied: chardet<4,>=3.0.2 in /opt/conda/envs/Python-3.7-main/lib/python3.7/site-packages (from requests->folium) (3.0.4)\n",
      "Requirement already satisfied: certifi>=2017.4.17 in /opt/conda/envs/Python-3.7-main/lib/python3.7/site-packages (from requests->folium) (2020.6.20)\n",
      "Installing collected packages: branca, folium\n",
      "Successfully installed branca-0.4.1 folium-0.11.0\n",
      "Note: you may need to restart the kernel to use updated packages.\n"
     ]
    }
   ],
   "source": [
    "pip install folium"
   ]
  },
  {
   "cell_type": "code",
   "execution_count": 76,
   "metadata": {
    "scrolled": true
   },
   "outputs": [],
   "source": [
    "import folium\n",
    "\n",
    "# Matplotlib and associated plotting modules\n",
    "import matplotlib.cm as cm\n",
    "import matplotlib.colors as colors\n",
    "\n",
    "# import k-means from clustering stage\n",
    "from sklearn.cluster import KMeans \n"
   ]
  },
  {
   "cell_type": "markdown",
   "metadata": {},
   "source": [
    "## Map of Toronto Postal Codes"
   ]
  },
  {
   "cell_type": "code",
   "execution_count": 44,
   "metadata": {
    "scrolled": true
   },
   "outputs": [
    {
     "data": {
      "text/html": [
       "<div style=\"width:100%;\"><div style=\"position:relative;width:100%;height:0;padding-bottom:60%;\"><span style=\"color:#565656\">Make this Notebook Trusted to load map: File -> Trust Notebook</span><iframe src=\"about:blank\" style=\"position:absolute;width:100%;height:100%;left:0;top:0;border:none !important;\" data-html=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 onload=\"this.contentDocument.open();this.contentDocument.write(atob(this.getAttribute('data-html')));this.contentDocument.close();\" allowfullscreen webkitallowfullscreen mozallowfullscreen></iframe></div></div>"
      ],
      "text/plain": [
       "<folium.folium.Map at 0x7fe167c4cfd0>"
      ]
     },
     "execution_count": 44,
     "metadata": {},
     "output_type": "execute_result"
    }
   ],
   "source": [
    "map_toronto = folium.Map(location=[43.6487, -79.38544], zoom_start=10)\n",
    "\n",
    "for lat, lng, borough, neighbourhood in zip(Toronto_df['Latitude'], Toronto_df['Longitude'], Toronto_df['Borough'], Toronto_df['Neighbourhood']):\n",
    "    label = '{}, {}'.format(neighbourhood, borough)\n",
    "    label = folium.Popup(label, parse_html=True)\n",
    "    folium.CircleMarker(\n",
    "        [lat, lng],\n",
    "        radius=5,\n",
    "        popup=label,\n",
    "        color='blue',\n",
    "        fill=True,\n",
    "        fill_color='#3186cc',\n",
    "        fill_opacity=0.7,\n",
    "        parse_html=False).add_to(map_toronto)  \n",
    "    \n",
    "map_toronto"
   ]
  },
  {
   "cell_type": "markdown",
   "metadata": {},
   "source": [
    "## Clustering Toronto Neighborhoods"
   ]
  },
  {
   "cell_type": "code",
   "execution_count": 51,
   "metadata": {},
   "outputs": [
    {
     "data": {
      "text/plain": [
       "array(['East Toronto', 'Central Toronto', 'Downtown Toronto',\n",
       "       'West Toronto'], dtype=object)"
      ]
     },
     "execution_count": 51,
     "metadata": {},
     "output_type": "execute_result"
    }
   ],
   "source": [
    "Toronto_boroughs = Toronto_df.Borough.unique()\n",
    "Toronto_boroughs"
   ]
  },
  {
   "cell_type": "markdown",
   "metadata": {},
   "source": [
    "## Part 3 - Process 1: Since there are 4 Boroughs in Toronto, 4 clusters will be created. k clusters will be set to 4."
   ]
  },
  {
   "cell_type": "code",
   "execution_count": 73,
   "metadata": {},
   "outputs": [
    {
     "data": {
      "text/plain": [
       "array([1, 1, 1, 1, 2, 2, 2, 2, 2, 2, 3, 3, 3, 3, 3, 3, 3, 3, 3, 3, 3, 3,\n",
       "       2, 2, 3, 3, 3, 3, 3, 3, 0, 0, 0, 0, 0, 0, 0, 3, 1], dtype=int32)"
      ]
     },
     "execution_count": 73,
     "metadata": {},
     "output_type": "execute_result"
    }
   ],
   "source": [
    "# set number of clusters\n",
    "kclusters = 4\n",
    "\n",
    "toronto_grouped_clustering = Toronto_df.drop(['Postal Code', 'Borough', 'Neighbourhood'], 1)\n",
    "\n",
    "# run k-means clustering\n",
    "kmeans = KMeans(n_clusters=kclusters, random_state=0).fit(toronto_grouped_clustering)\n",
    "\n",
    "# check cluster labels generated for each row in the dataframe\n",
    "kmeans.labels_\n"
   ]
  },
  {
   "cell_type": "markdown",
   "metadata": {},
   "source": [
    "Adding Cluster labels to dataframe"
   ]
  },
  {
   "cell_type": "code",
   "execution_count": 74,
   "metadata": {},
   "outputs": [
    {
     "data": {
      "text/html": [
       "<div>\n",
       "<style scoped>\n",
       "    .dataframe tbody tr th:only-of-type {\n",
       "        vertical-align: middle;\n",
       "    }\n",
       "\n",
       "    .dataframe tbody tr th {\n",
       "        vertical-align: top;\n",
       "    }\n",
       "\n",
       "    .dataframe thead th {\n",
       "        text-align: right;\n",
       "    }\n",
       "</style>\n",
       "<table border=\"1\" class=\"dataframe\">\n",
       "  <thead>\n",
       "    <tr style=\"text-align: right;\">\n",
       "      <th></th>\n",
       "      <th>Cluster Labels</th>\n",
       "      <th>Postal Code</th>\n",
       "      <th>Borough</th>\n",
       "      <th>Neighbourhood</th>\n",
       "      <th>Latitude</th>\n",
       "      <th>Longitude</th>\n",
       "    </tr>\n",
       "  </thead>\n",
       "  <tbody>\n",
       "    <tr>\n",
       "      <th>37</th>\n",
       "      <td>1</td>\n",
       "      <td>M4E</td>\n",
       "      <td>East Toronto</td>\n",
       "      <td>The Beaches</td>\n",
       "      <td>43.676357</td>\n",
       "      <td>-79.293031</td>\n",
       "    </tr>\n",
       "    <tr>\n",
       "      <th>41</th>\n",
       "      <td>1</td>\n",
       "      <td>M4K</td>\n",
       "      <td>East Toronto</td>\n",
       "      <td>The Danforth West, Riverdale</td>\n",
       "      <td>43.679557</td>\n",
       "      <td>-79.352188</td>\n",
       "    </tr>\n",
       "    <tr>\n",
       "      <th>42</th>\n",
       "      <td>1</td>\n",
       "      <td>M4L</td>\n",
       "      <td>East Toronto</td>\n",
       "      <td>India Bazaar, The Beaches West</td>\n",
       "      <td>43.668999</td>\n",
       "      <td>-79.315572</td>\n",
       "    </tr>\n",
       "    <tr>\n",
       "      <th>43</th>\n",
       "      <td>1</td>\n",
       "      <td>M4M</td>\n",
       "      <td>East Toronto</td>\n",
       "      <td>Studio District</td>\n",
       "      <td>43.659526</td>\n",
       "      <td>-79.340923</td>\n",
       "    </tr>\n",
       "    <tr>\n",
       "      <th>44</th>\n",
       "      <td>2</td>\n",
       "      <td>M4N</td>\n",
       "      <td>Central Toronto</td>\n",
       "      <td>Lawrence Park</td>\n",
       "      <td>43.728020</td>\n",
       "      <td>-79.388790</td>\n",
       "    </tr>\n",
       "    <tr>\n",
       "      <th>45</th>\n",
       "      <td>2</td>\n",
       "      <td>M4P</td>\n",
       "      <td>Central Toronto</td>\n",
       "      <td>Davisville North</td>\n",
       "      <td>43.712751</td>\n",
       "      <td>-79.390197</td>\n",
       "    </tr>\n",
       "    <tr>\n",
       "      <th>46</th>\n",
       "      <td>2</td>\n",
       "      <td>M4R</td>\n",
       "      <td>Central Toronto</td>\n",
       "      <td>North Toronto West, Lawrence Park</td>\n",
       "      <td>43.715383</td>\n",
       "      <td>-79.405678</td>\n",
       "    </tr>\n",
       "    <tr>\n",
       "      <th>47</th>\n",
       "      <td>2</td>\n",
       "      <td>M4S</td>\n",
       "      <td>Central Toronto</td>\n",
       "      <td>Davisville</td>\n",
       "      <td>43.704324</td>\n",
       "      <td>-79.388790</td>\n",
       "    </tr>\n",
       "    <tr>\n",
       "      <th>48</th>\n",
       "      <td>2</td>\n",
       "      <td>M4T</td>\n",
       "      <td>Central Toronto</td>\n",
       "      <td>Moore Park, Summerhill East</td>\n",
       "      <td>43.689574</td>\n",
       "      <td>-79.383160</td>\n",
       "    </tr>\n",
       "    <tr>\n",
       "      <th>49</th>\n",
       "      <td>2</td>\n",
       "      <td>M4V</td>\n",
       "      <td>Central Toronto</td>\n",
       "      <td>Summerhill West, Rathnelly, South Hill, Forest...</td>\n",
       "      <td>43.686412</td>\n",
       "      <td>-79.400049</td>\n",
       "    </tr>\n",
       "    <tr>\n",
       "      <th>50</th>\n",
       "      <td>3</td>\n",
       "      <td>M4W</td>\n",
       "      <td>Downtown Toronto</td>\n",
       "      <td>Rosedale</td>\n",
       "      <td>43.679563</td>\n",
       "      <td>-79.377529</td>\n",
       "    </tr>\n",
       "    <tr>\n",
       "      <th>51</th>\n",
       "      <td>3</td>\n",
       "      <td>M4X</td>\n",
       "      <td>Downtown Toronto</td>\n",
       "      <td>St. James Town, Cabbagetown</td>\n",
       "      <td>43.667967</td>\n",
       "      <td>-79.367675</td>\n",
       "    </tr>\n",
       "    <tr>\n",
       "      <th>52</th>\n",
       "      <td>3</td>\n",
       "      <td>M4Y</td>\n",
       "      <td>Downtown Toronto</td>\n",
       "      <td>Church and Wellesley</td>\n",
       "      <td>43.665860</td>\n",
       "      <td>-79.383160</td>\n",
       "    </tr>\n",
       "    <tr>\n",
       "      <th>53</th>\n",
       "      <td>3</td>\n",
       "      <td>M5A</td>\n",
       "      <td>Downtown Toronto</td>\n",
       "      <td>Regent Park, Harbourfront</td>\n",
       "      <td>43.654260</td>\n",
       "      <td>-79.360636</td>\n",
       "    </tr>\n",
       "    <tr>\n",
       "      <th>54</th>\n",
       "      <td>3</td>\n",
       "      <td>M5B</td>\n",
       "      <td>Downtown Toronto</td>\n",
       "      <td>Garden District, Ryerson</td>\n",
       "      <td>43.657162</td>\n",
       "      <td>-79.378937</td>\n",
       "    </tr>\n",
       "    <tr>\n",
       "      <th>55</th>\n",
       "      <td>3</td>\n",
       "      <td>M5C</td>\n",
       "      <td>Downtown Toronto</td>\n",
       "      <td>St. James Town</td>\n",
       "      <td>43.651494</td>\n",
       "      <td>-79.375418</td>\n",
       "    </tr>\n",
       "    <tr>\n",
       "      <th>56</th>\n",
       "      <td>3</td>\n",
       "      <td>M5E</td>\n",
       "      <td>Downtown Toronto</td>\n",
       "      <td>Berczy Park</td>\n",
       "      <td>43.644771</td>\n",
       "      <td>-79.373306</td>\n",
       "    </tr>\n",
       "    <tr>\n",
       "      <th>57</th>\n",
       "      <td>3</td>\n",
       "      <td>M5G</td>\n",
       "      <td>Downtown Toronto</td>\n",
       "      <td>Central Bay Street</td>\n",
       "      <td>43.657952</td>\n",
       "      <td>-79.387383</td>\n",
       "    </tr>\n",
       "    <tr>\n",
       "      <th>58</th>\n",
       "      <td>3</td>\n",
       "      <td>M5H</td>\n",
       "      <td>Downtown Toronto</td>\n",
       "      <td>Richmond, Adelaide, King</td>\n",
       "      <td>43.650571</td>\n",
       "      <td>-79.384568</td>\n",
       "    </tr>\n",
       "    <tr>\n",
       "      <th>59</th>\n",
       "      <td>3</td>\n",
       "      <td>M5J</td>\n",
       "      <td>Downtown Toronto</td>\n",
       "      <td>Harbourfront East, Union Station, Toronto Islands</td>\n",
       "      <td>43.640816</td>\n",
       "      <td>-79.381752</td>\n",
       "    </tr>\n",
       "    <tr>\n",
       "      <th>60</th>\n",
       "      <td>3</td>\n",
       "      <td>M5K</td>\n",
       "      <td>Downtown Toronto</td>\n",
       "      <td>Toronto Dominion Centre, Design Exchange</td>\n",
       "      <td>43.647177</td>\n",
       "      <td>-79.381576</td>\n",
       "    </tr>\n",
       "    <tr>\n",
       "      <th>61</th>\n",
       "      <td>3</td>\n",
       "      <td>M5L</td>\n",
       "      <td>Downtown Toronto</td>\n",
       "      <td>Commerce Court, Victoria Hotel</td>\n",
       "      <td>43.648198</td>\n",
       "      <td>-79.379817</td>\n",
       "    </tr>\n",
       "    <tr>\n",
       "      <th>63</th>\n",
       "      <td>2</td>\n",
       "      <td>M5N</td>\n",
       "      <td>Central Toronto</td>\n",
       "      <td>Roselawn</td>\n",
       "      <td>43.711695</td>\n",
       "      <td>-79.416936</td>\n",
       "    </tr>\n",
       "    <tr>\n",
       "      <th>64</th>\n",
       "      <td>2</td>\n",
       "      <td>M5P</td>\n",
       "      <td>Central Toronto</td>\n",
       "      <td>Forest Hill North &amp; West, Forest Hill Road Park</td>\n",
       "      <td>43.696948</td>\n",
       "      <td>-79.411307</td>\n",
       "    </tr>\n",
       "    <tr>\n",
       "      <th>65</th>\n",
       "      <td>3</td>\n",
       "      <td>M5R</td>\n",
       "      <td>Central Toronto</td>\n",
       "      <td>The Annex, North Midtown, Yorkville</td>\n",
       "      <td>43.672710</td>\n",
       "      <td>-79.405678</td>\n",
       "    </tr>\n",
       "    <tr>\n",
       "      <th>66</th>\n",
       "      <td>3</td>\n",
       "      <td>M5S</td>\n",
       "      <td>Downtown Toronto</td>\n",
       "      <td>University of Toronto, Harbord</td>\n",
       "      <td>43.662696</td>\n",
       "      <td>-79.400049</td>\n",
       "    </tr>\n",
       "    <tr>\n",
       "      <th>67</th>\n",
       "      <td>3</td>\n",
       "      <td>M5T</td>\n",
       "      <td>Downtown Toronto</td>\n",
       "      <td>Kensington Market, Chinatown, Grange Park</td>\n",
       "      <td>43.653206</td>\n",
       "      <td>-79.400049</td>\n",
       "    </tr>\n",
       "    <tr>\n",
       "      <th>68</th>\n",
       "      <td>3</td>\n",
       "      <td>M5V</td>\n",
       "      <td>Downtown Toronto</td>\n",
       "      <td>CN Tower, King and Spadina, Railway Lands, Har...</td>\n",
       "      <td>43.628947</td>\n",
       "      <td>-79.394420</td>\n",
       "    </tr>\n",
       "    <tr>\n",
       "      <th>69</th>\n",
       "      <td>3</td>\n",
       "      <td>M5W</td>\n",
       "      <td>Downtown Toronto</td>\n",
       "      <td>Stn A PO Boxes</td>\n",
       "      <td>43.646435</td>\n",
       "      <td>-79.374846</td>\n",
       "    </tr>\n",
       "    <tr>\n",
       "      <th>70</th>\n",
       "      <td>3</td>\n",
       "      <td>M5X</td>\n",
       "      <td>Downtown Toronto</td>\n",
       "      <td>First Canadian Place, Underground city</td>\n",
       "      <td>43.648429</td>\n",
       "      <td>-79.382280</td>\n",
       "    </tr>\n",
       "    <tr>\n",
       "      <th>75</th>\n",
       "      <td>0</td>\n",
       "      <td>M6G</td>\n",
       "      <td>Downtown Toronto</td>\n",
       "      <td>Christie</td>\n",
       "      <td>43.669542</td>\n",
       "      <td>-79.422564</td>\n",
       "    </tr>\n",
       "    <tr>\n",
       "      <th>76</th>\n",
       "      <td>0</td>\n",
       "      <td>M6H</td>\n",
       "      <td>West Toronto</td>\n",
       "      <td>Dufferin, Dovercourt Village</td>\n",
       "      <td>43.669005</td>\n",
       "      <td>-79.442259</td>\n",
       "    </tr>\n",
       "    <tr>\n",
       "      <th>77</th>\n",
       "      <td>0</td>\n",
       "      <td>M6J</td>\n",
       "      <td>West Toronto</td>\n",
       "      <td>Little Portugal, Trinity</td>\n",
       "      <td>43.647927</td>\n",
       "      <td>-79.419750</td>\n",
       "    </tr>\n",
       "    <tr>\n",
       "      <th>78</th>\n",
       "      <td>0</td>\n",
       "      <td>M6K</td>\n",
       "      <td>West Toronto</td>\n",
       "      <td>Brockton, Parkdale Village, Exhibition Place</td>\n",
       "      <td>43.636847</td>\n",
       "      <td>-79.428191</td>\n",
       "    </tr>\n",
       "    <tr>\n",
       "      <th>82</th>\n",
       "      <td>0</td>\n",
       "      <td>M6P</td>\n",
       "      <td>West Toronto</td>\n",
       "      <td>High Park, The Junction South</td>\n",
       "      <td>43.661608</td>\n",
       "      <td>-79.464763</td>\n",
       "    </tr>\n",
       "    <tr>\n",
       "      <th>83</th>\n",
       "      <td>0</td>\n",
       "      <td>M6R</td>\n",
       "      <td>West Toronto</td>\n",
       "      <td>Parkdale, Roncesvalles</td>\n",
       "      <td>43.648960</td>\n",
       "      <td>-79.456325</td>\n",
       "    </tr>\n",
       "    <tr>\n",
       "      <th>84</th>\n",
       "      <td>0</td>\n",
       "      <td>M6S</td>\n",
       "      <td>West Toronto</td>\n",
       "      <td>Runnymede, Swansea</td>\n",
       "      <td>43.651571</td>\n",
       "      <td>-79.484450</td>\n",
       "    </tr>\n",
       "    <tr>\n",
       "      <th>85</th>\n",
       "      <td>3</td>\n",
       "      <td>M7A</td>\n",
       "      <td>Downtown Toronto</td>\n",
       "      <td>Queen's Park, Ontario Provincial Government</td>\n",
       "      <td>43.662301</td>\n",
       "      <td>-79.389494</td>\n",
       "    </tr>\n",
       "    <tr>\n",
       "      <th>87</th>\n",
       "      <td>1</td>\n",
       "      <td>M7Y</td>\n",
       "      <td>East Toronto</td>\n",
       "      <td>Business reply mail Processing Centre, South C...</td>\n",
       "      <td>43.662744</td>\n",
       "      <td>-79.321558</td>\n",
       "    </tr>\n",
       "  </tbody>\n",
       "</table>\n",
       "</div>"
      ],
      "text/plain": [
       "    Cluster Labels Postal Code           Borough  \\\n",
       "37               1         M4E      East Toronto   \n",
       "41               1         M4K      East Toronto   \n",
       "42               1         M4L      East Toronto   \n",
       "43               1         M4M      East Toronto   \n",
       "44               2         M4N   Central Toronto   \n",
       "45               2         M4P   Central Toronto   \n",
       "46               2         M4R   Central Toronto   \n",
       "47               2         M4S   Central Toronto   \n",
       "48               2         M4T   Central Toronto   \n",
       "49               2         M4V   Central Toronto   \n",
       "50               3         M4W  Downtown Toronto   \n",
       "51               3         M4X  Downtown Toronto   \n",
       "52               3         M4Y  Downtown Toronto   \n",
       "53               3         M5A  Downtown Toronto   \n",
       "54               3         M5B  Downtown Toronto   \n",
       "55               3         M5C  Downtown Toronto   \n",
       "56               3         M5E  Downtown Toronto   \n",
       "57               3         M5G  Downtown Toronto   \n",
       "58               3         M5H  Downtown Toronto   \n",
       "59               3         M5J  Downtown Toronto   \n",
       "60               3         M5K  Downtown Toronto   \n",
       "61               3         M5L  Downtown Toronto   \n",
       "63               2         M5N   Central Toronto   \n",
       "64               2         M5P   Central Toronto   \n",
       "65               3         M5R   Central Toronto   \n",
       "66               3         M5S  Downtown Toronto   \n",
       "67               3         M5T  Downtown Toronto   \n",
       "68               3         M5V  Downtown Toronto   \n",
       "69               3         M5W  Downtown Toronto   \n",
       "70               3         M5X  Downtown Toronto   \n",
       "75               0         M6G  Downtown Toronto   \n",
       "76               0         M6H      West Toronto   \n",
       "77               0         M6J      West Toronto   \n",
       "78               0         M6K      West Toronto   \n",
       "82               0         M6P      West Toronto   \n",
       "83               0         M6R      West Toronto   \n",
       "84               0         M6S      West Toronto   \n",
       "85               3         M7A  Downtown Toronto   \n",
       "87               1         M7Y      East Toronto   \n",
       "\n",
       "                                        Neighbourhood   Latitude  Longitude  \n",
       "37                                        The Beaches  43.676357 -79.293031  \n",
       "41                       The Danforth West, Riverdale  43.679557 -79.352188  \n",
       "42                     India Bazaar, The Beaches West  43.668999 -79.315572  \n",
       "43                                    Studio District  43.659526 -79.340923  \n",
       "44                                      Lawrence Park  43.728020 -79.388790  \n",
       "45                                   Davisville North  43.712751 -79.390197  \n",
       "46                  North Toronto West, Lawrence Park  43.715383 -79.405678  \n",
       "47                                         Davisville  43.704324 -79.388790  \n",
       "48                        Moore Park, Summerhill East  43.689574 -79.383160  \n",
       "49  Summerhill West, Rathnelly, South Hill, Forest...  43.686412 -79.400049  \n",
       "50                                           Rosedale  43.679563 -79.377529  \n",
       "51                        St. James Town, Cabbagetown  43.667967 -79.367675  \n",
       "52                               Church and Wellesley  43.665860 -79.383160  \n",
       "53                          Regent Park, Harbourfront  43.654260 -79.360636  \n",
       "54                           Garden District, Ryerson  43.657162 -79.378937  \n",
       "55                                     St. James Town  43.651494 -79.375418  \n",
       "56                                        Berczy Park  43.644771 -79.373306  \n",
       "57                                 Central Bay Street  43.657952 -79.387383  \n",
       "58                           Richmond, Adelaide, King  43.650571 -79.384568  \n",
       "59  Harbourfront East, Union Station, Toronto Islands  43.640816 -79.381752  \n",
       "60           Toronto Dominion Centre, Design Exchange  43.647177 -79.381576  \n",
       "61                     Commerce Court, Victoria Hotel  43.648198 -79.379817  \n",
       "63                                           Roselawn  43.711695 -79.416936  \n",
       "64    Forest Hill North & West, Forest Hill Road Park  43.696948 -79.411307  \n",
       "65                The Annex, North Midtown, Yorkville  43.672710 -79.405678  \n",
       "66                     University of Toronto, Harbord  43.662696 -79.400049  \n",
       "67          Kensington Market, Chinatown, Grange Park  43.653206 -79.400049  \n",
       "68  CN Tower, King and Spadina, Railway Lands, Har...  43.628947 -79.394420  \n",
       "69                                     Stn A PO Boxes  43.646435 -79.374846  \n",
       "70             First Canadian Place, Underground city  43.648429 -79.382280  \n",
       "75                                           Christie  43.669542 -79.422564  \n",
       "76                       Dufferin, Dovercourt Village  43.669005 -79.442259  \n",
       "77                           Little Portugal, Trinity  43.647927 -79.419750  \n",
       "78       Brockton, Parkdale Village, Exhibition Place  43.636847 -79.428191  \n",
       "82                      High Park, The Junction South  43.661608 -79.464763  \n",
       "83                             Parkdale, Roncesvalles  43.648960 -79.456325  \n",
       "84                                 Runnymede, Swansea  43.651571 -79.484450  \n",
       "85        Queen's Park, Ontario Provincial Government  43.662301 -79.389494  \n",
       "87  Business reply mail Processing Centre, South C...  43.662744 -79.321558  "
      ]
     },
     "execution_count": 74,
     "metadata": {},
     "output_type": "execute_result"
    }
   ],
   "source": [
    "Toronto_df_merged = Toronto_df\n",
    "Toronto_df_merged.insert(0, 'Cluster Labels', kmeans.labels_)\n",
    "Toronto_df_merged"
   ]
  },
  {
   "cell_type": "markdown",
   "metadata": {},
   "source": [
    "## Part 3 - Process 2: Generate maps to Visualize the neighborhoods clustered together"
   ]
  },
  {
   "cell_type": "code",
   "execution_count": 78,
   "metadata": {
    "scrolled": true
   },
   "outputs": [
    {
     "data": {
      "text/html": [
       "<div style=\"width:100%;\"><div style=\"position:relative;width:100%;height:0;padding-bottom:60%;\"><span style=\"color:#565656\">Make this Notebook Trusted to load map: File -> Trust Notebook</span><iframe src=\"about:blank\" style=\"position:absolute;width:100%;height:100%;left:0;top:0;border:none !important;\" data-html=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 onload=\"this.contentDocument.open();this.contentDocument.write(atob(this.getAttribute('data-html')));this.contentDocument.close();\" allowfullscreen webkitallowfullscreen mozallowfullscreen></iframe></div></div>"
      ],
      "text/plain": [
       "<folium.folium.Map at 0x7fe163ad5890>"
      ]
     },
     "execution_count": 78,
     "metadata": {},
     "output_type": "execute_result"
    }
   ],
   "source": [
    "# create map\n",
    "map_clusters = folium.Map(location=[43.6487, -79.38544], zoom_start=11)\n",
    "\n",
    "# set color scheme for the clusters\n",
    "x = np.arange(kclusters)\n",
    "ys = [i + x + (i*x)**2 for i in range(kclusters)]\n",
    "colors_array = cm.rainbow(np.linspace(0, 1, len(ys)))\n",
    "rainbow = [colors.rgb2hex(i) for i in colors_array]\n",
    "\n",
    "# add markers to the map\n",
    "markers_colors = []\n",
    "for lat, lon, poi, cluster in zip(Toronto_df_merged['Latitude'], Toronto_df_merged['Longitude'], Toronto_df_merged['Neighbourhood'], Toronto_df_merged['Cluster Labels']):\n",
    "    label = folium.Popup(str(poi) + ' Cluster ' + str(cluster), parse_html=True)\n",
    "    folium.CircleMarker(\n",
    "        [lat, lon],\n",
    "        radius=5,\n",
    "        popup=label,\n",
    "        color=rainbow[cluster-1],\n",
    "        fill=True,\n",
    "        fill_color=rainbow[cluster-1],\n",
    "        fill_opacity=0.7).add_to(map_clusters)\n",
    "       \n",
    "map_clusters\n"
   ]
  },
  {
   "cell_type": "code",
   "execution_count": null,
   "metadata": {},
   "outputs": [],
   "source": []
  }
 ],
 "metadata": {
  "kernelspec": {
   "display_name": "Python 3.7",
   "language": "python",
   "name": "python3"
  },
  "language_info": {
   "codemirror_mode": {
    "name": "ipython",
    "version": 3
   },
   "file_extension": ".py",
   "mimetype": "text/x-python",
   "name": "python",
   "nbconvert_exporter": "python",
   "pygments_lexer": "ipython3",
   "version": "3.7.9"
  }
 },
 "nbformat": 4,
 "nbformat_minor": 1
}
